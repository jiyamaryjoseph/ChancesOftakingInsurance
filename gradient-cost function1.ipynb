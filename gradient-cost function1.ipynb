{
 "cells": [
  {
   "cell_type": "code",
   "execution_count": null,
   "id": "770a499d",
   "metadata": {},
   "outputs": [],
   "source": [
    "import numpy as np\n",
    "import matplotlib\n",
    "import math \n",
    "   \n",
    "def gradient_descent(x,y):\n",
    "    m_curr = b_curr = 0\n",
    "    iterations = 10000\n",
    "    n = len(x)\n",
    "    learning_rate = 0.08\n",
    "\n",
    "    for i in range(iterations):\n",
    "        print(\"i\",i)\n",
    "        y_predicted = m_curr * x + b_curr\n",
    "        print(\"y_predicted\",y_predicted)\n",
    "        cost = (1/n) * sum([val**2 for val in (y-y_predicted)])\n",
    "        print(\"cost\",cost)\n",
    "        md = -(2/n)*sum(x*(y-y_predicted))\n",
    "        print(\"md\",md)\n",
    "        bd = -(2/n)*sum(y-y_predicted)\n",
    "        print(\"bd\",bd)\n",
    "        m_curr = m_curr - learning_rate * md\n",
    "        print(\"m_curr\",m_curr)\n",
    "        b_curr = b_curr - learning_rate * bd\n",
    "        print(\"b_curr\",b_curr)\n",
    "        \n",
    "        print (\"m {}, b {}, cost {} iteration {}\".format(m_curr,b_curr,cost, i))\n",
    "\n",
    "x = np.array([1,2,3,4,5])\n",
    "y = np.array([5,7,9,11,13])\n",
    "\n",
    "gradient_descent(x,y)\n"
   ]
  },
  {
   "cell_type": "code",
   "execution_count": null,
   "id": "127db4d2",
   "metadata": {},
   "outputs": [],
   "source": [
    "\n"
   ]
  },
  {
   "cell_type": "code",
   "execution_count": null,
   "id": "284a3383",
   "metadata": {},
   "outputs": [],
   "source": []
  }
 ],
 "metadata": {
  "kernelspec": {
   "display_name": "Python 3",
   "language": "python",
   "name": "python3"
  },
  "language_info": {
   "codemirror_mode": {
    "name": "ipython",
    "version": 3
   },
   "file_extension": ".py",
   "mimetype": "text/x-python",
   "name": "python",
   "nbconvert_exporter": "python",
   "pygments_lexer": "ipython3",
   "version": "3.8.8"
  }
 },
 "nbformat": 4,
 "nbformat_minor": 5
}
